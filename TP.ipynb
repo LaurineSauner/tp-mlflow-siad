{
 "cells": [
  {
   "cell_type": "code",
   "execution_count": 3,
   "id": "44d79207",
   "metadata": {},
   "outputs": [],
   "source": [
    "import pandas as pd\n",
    "import os"
   ]
  },
  {
   "cell_type": "code",
   "execution_count": 4,
   "id": "0ea6543f",
   "metadata": {},
   "outputs": [],
   "source": [
    "def extract(data_dir:str,start_week:int, end_week:int,prefix:str) -> pd.DataFrame:\n",
    "    df = pd.DataFrame()\n",
    "    for i in range(start_week, end_week+1):\n",
    "        i=str(i).zfill(3)\n",
    "        file_path = os.path.join(data_dir, \"batchs\", f'{prefix}_week_{i}.csv')\n",
    "        batch = pd.read_csv(file_path)\n",
    "        df = pd.concat([df, batch], sort=True)\n",
    "    return df"
   ]
  },
  {
   "cell_type": "code",
   "execution_count": 5,
   "id": "c36b6681",
   "metadata": {
    "scrolled": false
   },
   "outputs": [],
   "source": [
    "#Ici on sélectionne des semaines 2 à 20 pour le restaurant 1\n",
    "df = extract(\"\", 100, 110, 'restaurant_1')"
   ]
  },
  {
   "cell_type": "code",
   "execution_count": 6,
   "id": "9a6d39c9",
   "metadata": {},
   "outputs": [
    {
     "data": {
      "text/html": [
       "<div>\n",
       "<style scoped>\n",
       "    .dataframe tbody tr th:only-of-type {\n",
       "        vertical-align: middle;\n",
       "    }\n",
       "\n",
       "    .dataframe tbody tr th {\n",
       "        vertical-align: top;\n",
       "    }\n",
       "\n",
       "    .dataframe thead th {\n",
       "        text-align: right;\n",
       "    }\n",
       "</style>\n",
       "<table border=\"1\" class=\"dataframe\">\n",
       "  <thead>\n",
       "    <tr style=\"text-align: right;\">\n",
       "      <th></th>\n",
       "      <th>Item Name</th>\n",
       "      <th>Order Date</th>\n",
       "      <th>Order Number</th>\n",
       "      <th>Product Price</th>\n",
       "      <th>Quantity</th>\n",
       "      <th>Total products</th>\n",
       "    </tr>\n",
       "  </thead>\n",
       "  <tbody>\n",
       "    <tr>\n",
       "      <th>0</th>\n",
       "      <td>Mango Chutney</td>\n",
       "      <td>2016-11-30 17:42:00</td>\n",
       "      <td>3849</td>\n",
       "      <td>0.5</td>\n",
       "      <td>2</td>\n",
       "      <td>24</td>\n",
       "    </tr>\n",
       "    <tr>\n",
       "      <th>1</th>\n",
       "      <td>Onion Chutney</td>\n",
       "      <td>2016-11-30 17:42:00</td>\n",
       "      <td>3849</td>\n",
       "      <td>0.5</td>\n",
       "      <td>1</td>\n",
       "      <td>24</td>\n",
       "    </tr>\n",
       "    <tr>\n",
       "      <th>2</th>\n",
       "      <td>Red Sauce</td>\n",
       "      <td>2016-11-30 17:42:00</td>\n",
       "      <td>3849</td>\n",
       "      <td>0.5</td>\n",
       "      <td>1</td>\n",
       "      <td>24</td>\n",
       "    </tr>\n",
       "    <tr>\n",
       "      <th>3</th>\n",
       "      <td>Onion Chutney</td>\n",
       "      <td>2016-11-30 16:53:00</td>\n",
       "      <td>3847</td>\n",
       "      <td>0.5</td>\n",
       "      <td>1</td>\n",
       "      <td>5</td>\n",
       "    </tr>\n",
       "    <tr>\n",
       "      <th>4</th>\n",
       "      <td>Mint Sauce</td>\n",
       "      <td>2016-12-04 18:34:00</td>\n",
       "      <td>2279</td>\n",
       "      <td>0.5</td>\n",
       "      <td>1</td>\n",
       "      <td>8</td>\n",
       "    </tr>\n",
       "  </tbody>\n",
       "</table>\n",
       "</div>"
      ],
      "text/plain": [
       "       Item Name           Order Date  Order Number  Product Price  Quantity  \\\n",
       "0  Mango Chutney  2016-11-30 17:42:00          3849            0.5         2   \n",
       "1  Onion Chutney  2016-11-30 17:42:00          3849            0.5         1   \n",
       "2      Red Sauce  2016-11-30 17:42:00          3849            0.5         1   \n",
       "3  Onion Chutney  2016-11-30 16:53:00          3847            0.5         1   \n",
       "4     Mint Sauce  2016-12-04 18:34:00          2279            0.5         1   \n",
       "\n",
       "   Total products  \n",
       "0              24  \n",
       "1              24  \n",
       "2              24  \n",
       "3               5  \n",
       "4               8  "
      ]
     },
     "execution_count": 6,
     "metadata": {},
     "output_type": "execute_result"
    }
   ],
   "source": [
    "df.head()"
   ]
  },
  {
   "cell_type": "code",
   "execution_count": 11,
   "id": "6b3b6053",
   "metadata": {},
   "outputs": [
    {
     "ename": "SyntaxError",
     "evalue": "invalid syntax (403972347.py, line 19)",
     "output_type": "error",
     "traceback": [
      "\u001b[1;36m  Cell \u001b[1;32mIn [11], line 19\u001b[1;36m\u001b[0m\n\u001b[1;33m    def merge (df: pd.DataFrame , df2:pd.DataFrame)\u001b[0m\n\u001b[1;37m                                                   ^\u001b[0m\n\u001b[1;31mSyntaxError\u001b[0m\u001b[1;31m:\u001b[0m invalid syntax\n"
     ]
    }
   ],
   "source": [
    "#Cleaning our data\n",
    "import numpy as np\n",
    "def clean(df: pd.DataFrame) -> pd.DataFrame:\n",
    "    df.columns=df.columns.str.lower().str.replace(' ', '_')\n",
    "    df['order_date'] = pd.to_datetime(df['order_date'])\n",
    "    df['total_prix'] = df['product_price']*df['quantity']\n",
    "    df['cash_in'] = df.groupby('order_number')['total_prix'].transform(np.sum)\n",
    "    df = df.drop(columns=['item_name', 'quantity', 'product_price', 'total_products'])\n",
    "    df = df.drop_duplicates()\n",
    "    df=df.reset_index(drop=True)\n",
    "    return df\n",
    "\n",
    "#Resampling\n",
    "def resample(df: pd.DataFrame) -> pd.DataFrame:\n",
    "    df = df.resample('1H', on='order_date').sum().reset_index()\n",
    "    return df\n",
    "\n",
    "#Merge\n",
    "def merge (df: pd.DataFrame , df2:pd.DataFrame)"
   ]
  },
  {
   "cell_type": "code",
   "execution_count": 8,
   "id": "097275df",
   "metadata": {},
   "outputs": [
    {
     "ename": "NameError",
     "evalue": "name 'clean' is not defined",
     "output_type": "error",
     "traceback": [
      "\u001b[1;31m---------------------------------------------------------------------------\u001b[0m",
      "\u001b[1;31mNameError\u001b[0m                                 Traceback (most recent call last)",
      "Cell \u001b[1;32mIn [8], line 1\u001b[0m\n\u001b[1;32m----> 1\u001b[0m df \u001b[38;5;241m=\u001b[39m \u001b[43mclean\u001b[49m(df)\n\u001b[0;32m      2\u001b[0m df\u001b[38;5;241m.\u001b[39mhead()\n",
      "\u001b[1;31mNameError\u001b[0m: name 'clean' is not defined"
     ]
    }
   ],
   "source": [
    "df = clean(df)\n",
    "df.head()"
   ]
  },
  {
   "cell_type": "code",
   "execution_count": 9,
   "id": "1ac552b5",
   "metadata": {},
   "outputs": [
    {
     "ename": "AttributeError",
     "evalue": "'DataFrame' object has no attribute 'order_date'",
     "output_type": "error",
     "traceback": [
      "\u001b[1;31m---------------------------------------------------------------------------\u001b[0m",
      "\u001b[1;31mAttributeError\u001b[0m                            Traceback (most recent call last)",
      "Cell \u001b[1;32mIn [9], line 2\u001b[0m\n\u001b[0;32m      1\u001b[0m \u001b[38;5;66;03m#cash_in par jour\u001b[39;00m\n\u001b[1;32m----> 2\u001b[0m df2 \u001b[38;5;241m=\u001b[39m df\u001b[38;5;241m.\u001b[39mgroupby(\u001b[43mdf\u001b[49m\u001b[38;5;241;43m.\u001b[39;49m\u001b[43morder_date\u001b[49m\u001b[38;5;241m.\u001b[39mdt\u001b[38;5;241m.\u001b[39mdate)\u001b[38;5;241m.\u001b[39msum()\n\u001b[0;32m      3\u001b[0m df2\n",
      "File \u001b[1;32m~\\miniconda3\\lib\\site-packages\\pandas\\core\\generic.py:5575\u001b[0m, in \u001b[0;36mNDFrame.__getattr__\u001b[1;34m(self, name)\u001b[0m\n\u001b[0;32m   5568\u001b[0m \u001b[38;5;28;01mif\u001b[39;00m (\n\u001b[0;32m   5569\u001b[0m     name \u001b[38;5;129;01mnot\u001b[39;00m \u001b[38;5;129;01min\u001b[39;00m \u001b[38;5;28mself\u001b[39m\u001b[38;5;241m.\u001b[39m_internal_names_set\n\u001b[0;32m   5570\u001b[0m     \u001b[38;5;129;01mand\u001b[39;00m name \u001b[38;5;129;01mnot\u001b[39;00m \u001b[38;5;129;01min\u001b[39;00m \u001b[38;5;28mself\u001b[39m\u001b[38;5;241m.\u001b[39m_metadata\n\u001b[0;32m   5571\u001b[0m     \u001b[38;5;129;01mand\u001b[39;00m name \u001b[38;5;129;01mnot\u001b[39;00m \u001b[38;5;129;01min\u001b[39;00m \u001b[38;5;28mself\u001b[39m\u001b[38;5;241m.\u001b[39m_accessors\n\u001b[0;32m   5572\u001b[0m     \u001b[38;5;129;01mand\u001b[39;00m \u001b[38;5;28mself\u001b[39m\u001b[38;5;241m.\u001b[39m_info_axis\u001b[38;5;241m.\u001b[39m_can_hold_identifiers_and_holds_name(name)\n\u001b[0;32m   5573\u001b[0m ):\n\u001b[0;32m   5574\u001b[0m     \u001b[38;5;28;01mreturn\u001b[39;00m \u001b[38;5;28mself\u001b[39m[name]\n\u001b[1;32m-> 5575\u001b[0m \u001b[38;5;28;01mreturn\u001b[39;00m \u001b[38;5;28;43mobject\u001b[39;49m\u001b[38;5;241;43m.\u001b[39;49m\u001b[38;5;21;43m__getattribute__\u001b[39;49m\u001b[43m(\u001b[49m\u001b[38;5;28;43mself\u001b[39;49m\u001b[43m,\u001b[49m\u001b[43m \u001b[49m\u001b[43mname\u001b[49m\u001b[43m)\u001b[49m\n",
      "\u001b[1;31mAttributeError\u001b[0m: 'DataFrame' object has no attribute 'order_date'"
     ]
    }
   ],
   "source": [
    "#cash_in par jour\n",
    "df2 = df.groupby(df.order_date.dt.date).sum()\n",
    "df2"
   ]
  },
  {
   "cell_type": "code",
   "execution_count": null,
   "id": "87e9bed3",
   "metadata": {},
   "outputs": [],
   "source": [
    "import matplotlib.pyplot as plt\n",
    "plt.plot(df2.cash_in)"
   ]
  },
  {
   "cell_type": "code",
   "execution_count": 10,
   "id": "b5920c76",
   "metadata": {},
   "outputs": [
    {
     "ename": "NameError",
     "evalue": "name 'df2' is not defined",
     "output_type": "error",
     "traceback": [
      "\u001b[1;31m---------------------------------------------------------------------------\u001b[0m",
      "\u001b[1;31mNameError\u001b[0m                                 Traceback (most recent call last)",
      "Cell \u001b[1;32mIn [10], line 2\u001b[0m\n\u001b[0;32m      1\u001b[0m \u001b[38;5;66;03m#cash_in par semaine\u001b[39;00m\n\u001b[1;32m----> 2\u001b[0m df3 \u001b[38;5;241m=\u001b[39m \u001b[43mdf2\u001b[49m\n\u001b[0;32m      3\u001b[0m df3[\u001b[38;5;124m\"\u001b[39m\u001b[38;5;124morder_date\u001b[39m\u001b[38;5;124m\"\u001b[39m] \u001b[38;5;241m=\u001b[39m df3\u001b[38;5;241m.\u001b[39mindex\n\u001b[0;32m      4\u001b[0m df3[\u001b[38;5;124m'\u001b[39m\u001b[38;5;124morder_date\u001b[39m\u001b[38;5;124m'\u001b[39m] \u001b[38;5;241m=\u001b[39m pd\u001b[38;5;241m.\u001b[39mto_datetime(df3[\u001b[38;5;124m'\u001b[39m\u001b[38;5;124morder_date\u001b[39m\u001b[38;5;124m'\u001b[39m])\n",
      "\u001b[1;31mNameError\u001b[0m: name 'df2' is not defined"
     ]
    }
   ],
   "source": [
    "#cash_in par semaine\n",
    "df3 = df2\n",
    "df3[\"order_date\"] = df3.index\n",
    "df3['order_date'] = pd.to_datetime(df3['order_date'])\n",
    "df3[\"Week\"] = df3[\"order_date\"].dt.to_period(\"W\").dt.to_timestamp()\n",
    "df3"
   ]
  },
  {
   "cell_type": "code",
   "execution_count": 77,
   "id": "e83833aa",
   "metadata": {},
   "outputs": [
    {
     "name": "stderr",
     "output_type": "stream",
     "text": [
      "C:\\Users\\saune\\AppData\\Local\\Temp\\ipykernel_12956\\1227719461.py:1: FutureWarning: The default value of numeric_only in DataFrameGroupBy.sum is deprecated. In a future version, numeric_only will default to False. Either specify numeric_only or select only columns which should be valid for the function.\n",
      "  df3 = df3.groupby(df3.Week.dt.date).sum()\n"
     ]
    },
    {
     "data": {
      "text/html": [
       "<div>\n",
       "<style scoped>\n",
       "    .dataframe tbody tr th:only-of-type {\n",
       "        vertical-align: middle;\n",
       "    }\n",
       "\n",
       "    .dataframe tbody tr th {\n",
       "        vertical-align: top;\n",
       "    }\n",
       "\n",
       "    .dataframe thead th {\n",
       "        text-align: right;\n",
       "    }\n",
       "</style>\n",
       "<table border=\"1\" class=\"dataframe\">\n",
       "  <thead>\n",
       "    <tr style=\"text-align: right;\">\n",
       "      <th></th>\n",
       "      <th>order_number</th>\n",
       "      <th>total_prix</th>\n",
       "      <th>cash_in</th>\n",
       "    </tr>\n",
       "    <tr>\n",
       "      <th>Week</th>\n",
       "      <th></th>\n",
       "      <th></th>\n",
       "      <th></th>\n",
       "    </tr>\n",
       "  </thead>\n",
       "  <tbody>\n",
       "    <tr>\n",
       "      <th>2016-11-28</th>\n",
       "      <td>346807</td>\n",
       "      <td>624.95</td>\n",
       "      <td>4923.80</td>\n",
       "    </tr>\n",
       "    <tr>\n",
       "      <th>2016-12-05</th>\n",
       "      <td>712011</td>\n",
       "      <td>1348.20</td>\n",
       "      <td>10065.10</td>\n",
       "    </tr>\n",
       "    <tr>\n",
       "      <th>2016-12-12</th>\n",
       "      <td>1262932</td>\n",
       "      <td>1959.30</td>\n",
       "      <td>16718.90</td>\n",
       "    </tr>\n",
       "    <tr>\n",
       "      <th>2016-12-19</th>\n",
       "      <td>1108614</td>\n",
       "      <td>1659.30</td>\n",
       "      <td>11073.80</td>\n",
       "    </tr>\n",
       "    <tr>\n",
       "      <th>2016-12-26</th>\n",
       "      <td>1236705</td>\n",
       "      <td>1714.50</td>\n",
       "      <td>12220.35</td>\n",
       "    </tr>\n",
       "    <tr>\n",
       "      <th>2017-01-02</th>\n",
       "      <td>1722122</td>\n",
       "      <td>1908.15</td>\n",
       "      <td>11967.55</td>\n",
       "    </tr>\n",
       "    <tr>\n",
       "      <th>2017-01-09</th>\n",
       "      <td>2048303</td>\n",
       "      <td>2385.60</td>\n",
       "      <td>14635.55</td>\n",
       "    </tr>\n",
       "    <tr>\n",
       "      <th>2017-01-16</th>\n",
       "      <td>1088576</td>\n",
       "      <td>1625.30</td>\n",
       "      <td>10442.10</td>\n",
       "    </tr>\n",
       "    <tr>\n",
       "      <th>2017-01-23</th>\n",
       "      <td>1491078</td>\n",
       "      <td>1959.70</td>\n",
       "      <td>12530.45</td>\n",
       "    </tr>\n",
       "    <tr>\n",
       "      <th>2017-01-30</th>\n",
       "      <td>971090</td>\n",
       "      <td>1328.90</td>\n",
       "      <td>7159.25</td>\n",
       "    </tr>\n",
       "    <tr>\n",
       "      <th>2017-02-06</th>\n",
       "      <td>2502405</td>\n",
       "      <td>2402.85</td>\n",
       "      <td>14912.15</td>\n",
       "    </tr>\n",
       "  </tbody>\n",
       "</table>\n",
       "</div>"
      ],
      "text/plain": [
       "            order_number  total_prix   cash_in\n",
       "Week                                          \n",
       "2016-11-28        346807      624.95   4923.80\n",
       "2016-12-05        712011     1348.20  10065.10\n",
       "2016-12-12       1262932     1959.30  16718.90\n",
       "2016-12-19       1108614     1659.30  11073.80\n",
       "2016-12-26       1236705     1714.50  12220.35\n",
       "2017-01-02       1722122     1908.15  11967.55\n",
       "2017-01-09       2048303     2385.60  14635.55\n",
       "2017-01-16       1088576     1625.30  10442.10\n",
       "2017-01-23       1491078     1959.70  12530.45\n",
       "2017-01-30        971090     1328.90   7159.25\n",
       "2017-02-06       2502405     2402.85  14912.15"
      ]
     },
     "execution_count": 77,
     "metadata": {},
     "output_type": "execute_result"
    }
   ],
   "source": [
    "df3 = df3.groupby(df3.Week.dt.date).sum()\n",
    "df3"
   ]
  },
  {
   "cell_type": "code",
   "execution_count": 78,
   "id": "b2925122",
   "metadata": {},
   "outputs": [
    {
     "data": {
      "text/plain": [
       "[<matplotlib.lines.Line2D at 0x220b06c5610>]"
      ]
     },
     "execution_count": 78,
     "metadata": {},
     "output_type": "execute_result"
    },
    {
     "data": {
      "image/png": "[encoded data removed]",
      "text/plain": [
       "<Figure size 640x480 with 1 Axes>"
      ]
     },
     "metadata": {},
     "output_type": "display_data"
    }
   ],
   "source": [
    "import matplotlib.pyplot as plt\n",
    "plt.plot(df3.cash_in)"
   ]
  },
  {
   "cell_type": "code",
   "execution_count": null,
   "id": "4a2ec3ce",
   "metadata": {},
   "outputs": [],
   "source": [
    "import os\n",
    "import logging\n",
    "\n",
    "import pandas as pd\n",
    "import numpy as np"
   ]
  },
  {
   "cell_type": "code",
   "execution_count": 2,
   "id": "9ab73118",
   "metadata": {},
   "outputs": [
    {
     "ename": "NameError",
     "evalue": "name 'df3' is not defined",
     "output_type": "error",
     "traceback": [
      "\u001b[1;31m---------------------------------------------------------------------------\u001b[0m",
      "\u001b[1;31mNameError\u001b[0m                                 Traceback (most recent call last)",
      "Cell \u001b[1;32mIn [2], line 3\u001b[0m\n\u001b[0;32m      1\u001b[0m \u001b[38;5;28;01mimport\u001b[39;00m \u001b[38;5;21;01mmatplotlib\u001b[39;00m\u001b[38;5;21;01m.\u001b[39;00m\u001b[38;5;21;01mpyplot\u001b[39;00m \u001b[38;5;28;01mas\u001b[39;00m \u001b[38;5;21;01mplt\u001b[39;00m\n\u001b[0;32m      2\u001b[0m fig \u001b[38;5;241m=\u001b[39m plt\u001b[38;5;241m.\u001b[39mfigure(figsize\u001b[38;5;241m=\u001b[39m(\u001b[38;5;241m10\u001b[39m,\u001b[38;5;241m5\u001b[39m))\n\u001b[1;32m----> 3\u001b[0m plt\u001b[38;5;241m.\u001b[39mplot(\u001b[43mdf3\u001b[49m\u001b[38;5;241m.\u001b[39morder_date, df3\u001b[38;5;241m.\u001b[39mcash_in)\n\u001b[0;32m      4\u001b[0m plt\u001b[38;5;241m.\u001b[39mxlabel(\u001b[38;5;124m\"\u001b[39m\u001b[38;5;124mtime\u001b[39m\u001b[38;5;124m\"\u001b[39m)\n\u001b[0;32m      5\u001b[0m plt\u001b[38;5;241m.\u001b[39mylabel(\u001b[38;5;124m\"\u001b[39m\u001b[38;5;124mturnover\u001b[39m\u001b[38;5;124m\"\u001b[39m)\n",
      "\u001b[1;31mNameError\u001b[0m: name 'df3' is not defined"
     ]
    },
    {
     "data": {
      "text/plain": [
       "<Figure size 1000x500 with 0 Axes>"
      ]
     },
     "metadata": {},
     "output_type": "display_data"
    }
   ],
   "source": [
    "import matplotlib.pyplot as plt\n",
    "fig = plt.figure(figsize=(10,5))\n",
    "plt.plot(df3.order_date, df3.cash_in)\n",
    "plt.xlabel(\"time\")\n",
    "plt.ylabel(\"turnover\")\n",
    "plt.grid(True)"
   ]
  },
  {
   "cell_type": "code",
   "execution_count": null,
   "id": "75dda108",
   "metadata": {},
   "outputs": [],
   "source": []
  }
 ],
 "metadata": {
  "kernelspec": {
   "display_name": "Python 3 (ipykernel)",
   "language": "python",
   "name": "python3"
  },
  "language_info": {
   "codemirror_mode": {
    "name": "ipython",
    "version": 3
   },
   "file_extension": ".py",
   "mimetype": "text/x-python",
   "name": "python",
   "nbconvert_exporter": "python",
   "pygments_lexer": "ipython3",
   "version": "3.9.12"
  }
 },
 "nbformat": 4,
 "nbformat_minor": 5
}
